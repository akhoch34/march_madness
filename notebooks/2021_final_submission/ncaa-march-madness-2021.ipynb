{
 "cells": [
  {
   "cell_type": "code",
   "execution_count": null,
   "metadata": {
    "_cell_guid": "b1076dfc-b9ad-4769-8c92-a6c4dae69d19",
    "_uuid": "8f2839f25d086af736a60e9eeb907d3b93b6e0e5"
   },
   "outputs": [],
   "source": [
    "import numpy as np\n",
    "import pandas as pd\n",
    "import xgboost as xgb\n",
    "from sklearn.model_selection import KFold\n",
    "from sklearn.metrics import log_loss\n",
    "from scipy.interpolate import UnivariateSpline\n",
    "import statsmodels.api as sm\n",
    "import matplotlib.pyplot as plt\n",
    "\n",
    "pd.set_option(\"display.max_column\", 10)"
   ]
  },
  {
   "cell_type": "markdown",
   "metadata": {
    "_uuid": "afe4811283fd6778ba3b67f2a469ab12b1b74c43"
   },
   "source": [
    "# Load the data!"
   ]
  },
  {
   "cell_type": "code",
   "execution_count": null,
   "metadata": {
    "_cell_guid": "79c7e3d0-c299-4dcb-8224-4455121ee9b0",
    "_uuid": "d629ff2d2480ee46fbb7e2d37f6b5fab8052498a"
   },
   "outputs": [],
   "source": [
    "tourney_results = pd.read_csv('../../data/2021/MNCAATourneyDetailedResults.csv')\n",
    "seeds = pd.read_csv('../../data/2021/MNCAATourneySeeds.csv')\n",
    "regular_results = pd.read_csv(\n",
    "    '../../data/2021/MRegularSeasonDetailedResults.csv')\n"
   ]
  },
  {
   "cell_type": "code",
   "execution_count": null,
   "metadata": {},
   "outputs": [],
   "source": []
  },
  {
   "cell_type": "code",
   "execution_count": null,
   "metadata": {
    "_uuid": "3f842da316f407e60ae6709bf101c6172d96b3ca"
   },
   "outputs": [],
   "source": [
    "tourney_results.shape"
   ]
  },
  {
   "cell_type": "code",
   "execution_count": null,
   "metadata": {
    "_uuid": "b47b21c62cf7c50ffa6928493ff840e09b020aec"
   },
   "outputs": [],
   "source": [
    "seeds.shape"
   ]
  },
  {
   "cell_type": "code",
   "execution_count": null,
   "metadata": {
    "_uuid": "cef4a5daa0a16a46b7bdc607fa7f1ff1a56f29e7"
   },
   "outputs": [],
   "source": [
    "regular_results.shape"
   ]
  },
  {
   "cell_type": "code",
   "execution_count": null,
   "metadata": {
    "_uuid": "cce4fcd0f461209c7083be92eed6b374b8090cfb"
   },
   "outputs": [],
   "source": [
    "regular_results.head()"
   ]
  },
  {
   "cell_type": "code",
   "execution_count": null,
   "metadata": {
    "_uuid": "68268ded6cc4d6c7e7e7a2223f5d52f53249d4f8"
   },
   "outputs": [],
   "source": [
    "regular_results.groupby('Season').mean()"
   ]
  },
  {
   "cell_type": "code",
   "execution_count": null,
   "metadata": {
    "_uuid": "ddb880d395bdf960a6fac399590048a62b00e0a1"
   },
   "outputs": [],
   "source": [
    "tourney_results.groupby('Season').mean()"
   ]
  },
  {
   "cell_type": "code",
   "execution_count": null,
   "metadata": {
    "_uuid": "0a32e4050204d2bfaeaef006bad10b75c1698b28"
   },
   "outputs": [],
   "source": [
    "seeds.head()"
   ]
  },
  {
   "cell_type": "code",
   "execution_count": null,
   "metadata": {
    "_uuid": "70d037fdc8ae68f792795a9ac28bf87193e3a460"
   },
   "outputs": [],
   "source": [
    "tourney_results.head()"
   ]
  },
  {
   "cell_type": "code",
   "execution_count": null,
   "metadata": {
    "_uuid": "9f0b89012882ce8033f9c70e8e0ee450b6dd52c2"
   },
   "outputs": [],
   "source": [
    "all(regular_results.columns == tourney_results.columns)"
   ]
  },
  {
   "cell_type": "markdown",
   "metadata": {
    "_uuid": "20a1490f4d5e0c7916ed661855497604980d2925"
   },
   "source": [
    "# Data preparation!"
   ]
  },
  {
   "cell_type": "code",
   "execution_count": null,
   "metadata": {
    "_uuid": "1b156a841ad709f7e913cff2ef8547bfbd192003"
   },
   "outputs": [],
   "source": [
    "regular_results.columns"
   ]
  },
  {
   "cell_type": "code",
   "execution_count": null,
   "metadata": {
    "_uuid": "c64aa4973491277a0e49828b1c0a1a3c9bf076cd"
   },
   "outputs": [],
   "source": [
    "regular_results_swap = regular_results[[\n",
    "    'Season', 'DayNum', 'LTeamID', 'LScore', 'WTeamID', 'WScore', 'WLoc', 'NumOT', \n",
    "    'LFGM', 'LFGA', 'LFGM3', 'LFGA3', 'LFTM', 'LFTA', 'LOR', 'LDR', 'LAst', 'LTO', 'LStl', 'LBlk', 'LPF', \n",
    "    'WFGM', 'WFGA', 'WFGM3', 'WFGA3', 'WFTM', 'WFTA', 'WOR', 'WDR', 'WAst', 'WTO', 'WStl', 'WBlk', 'WPF']]"
   ]
  },
  {
   "cell_type": "code",
   "execution_count": null,
   "metadata": {
    "_uuid": "cc48ee5463e4cbb0ab1983bbf05568816dd69524"
   },
   "outputs": [],
   "source": [
    "regular_results.head()"
   ]
  },
  {
   "cell_type": "code",
   "execution_count": null,
   "metadata": {
    "_uuid": "e66e9beb31c4aa2c1f33a9a99d296fb041b22511"
   },
   "outputs": [],
   "source": [
    "regular_results_swap.head()"
   ]
  },
  {
   "cell_type": "code",
   "execution_count": null,
   "metadata": {
    "_uuid": "5e1cb14edd0d7c3bda4293fce6de17b9e9c09670"
   },
   "outputs": [],
   "source": [
    "regular_results_swap.loc[regular_results['WLoc'] == 'H', 'WLoc'] = 'A'\n",
    "regular_results_swap.loc[regular_results['WLoc'] == 'A', 'WLoc'] = 'H'\n",
    "regular_results.columns.values[6] = 'location'\n",
    "regular_results_swap.columns.values[6] = 'location'"
   ]
  },
  {
   "cell_type": "code",
   "execution_count": null,
   "metadata": {
    "_uuid": "6e47e8ef55dba0e247026238c438b3050716e137"
   },
   "outputs": [],
   "source": [
    "regular_results.head()"
   ]
  },
  {
   "cell_type": "code",
   "execution_count": null,
   "metadata": {
    "_uuid": "a79c69ef083d8440be5666021745876403cb45f5"
   },
   "outputs": [],
   "source": [
    "regular_results_swap.head()"
   ]
  },
  {
   "cell_type": "code",
   "execution_count": null,
   "metadata": {
    "_uuid": "7d62870443808d016ec18626c504ef1ab5a2ea5b"
   },
   "outputs": [],
   "source": [
    "regular_results.columns = [x.replace('W','T1_').replace('L','T2_') for x in list(regular_results.columns)]\n",
    "regular_results_swap.columns = [x.replace('L','T1_').replace('W','T2_') for x in list(regular_results.columns)]"
   ]
  },
  {
   "cell_type": "code",
   "execution_count": null,
   "metadata": {
    "_uuid": "4bee846599f0781e6a18f172cfa862c78232d456"
   },
   "outputs": [],
   "source": [
    "regular_results.head()"
   ]
  },
  {
   "cell_type": "code",
   "execution_count": null,
   "metadata": {
    "_uuid": "dbcaf9d8d461e28ca2dddef8ae85643a9ceb0c6e"
   },
   "outputs": [],
   "source": [
    "regular_results_swap.head()"
   ]
  },
  {
   "cell_type": "code",
   "execution_count": null,
   "metadata": {
    "_uuid": "29b55b8ce793fce07e138a37650d145c5c535522"
   },
   "outputs": [],
   "source": [
    "regular_data = pd.concat([regular_results, regular_results_swap]).sort_index().reset_index(drop = True)"
   ]
  },
  {
   "cell_type": "code",
   "execution_count": null,
   "metadata": {
    "_uuid": "d2d85dc0859f2f355eb0d830ec7988f9f2230421"
   },
   "outputs": [],
   "source": [
    "regular_data.head(10)"
   ]
  },
  {
   "cell_type": "code",
   "execution_count": null,
   "metadata": {
    "_uuid": "512dcd34de61fd5e61cd08eccc1c9560362f4178"
   },
   "outputs": [],
   "source": [
    "tourney_results = pd.read_csv('../../data/2021/MNCAATourneyDetailedResults.csv')\n",
    "seeds = pd.read_csv('../../data/2021/MNCAATourneySeeds.csv')\n",
    "regular_results = pd.read_csv(\n",
    "    '../../data/2021/MRegularSeasonDetailedResults.csv')\n",
    "\n",
    "def prepare_data(df):\n",
    "    dfswap = df[['Season', 'DayNum', 'LTeamID', 'LScore', 'WTeamID', 'WScore', 'WLoc', 'NumOT', \n",
    "    'LFGM', 'LFGA', 'LFGM3', 'LFGA3', 'LFTM', 'LFTA', 'LOR', 'LDR', 'LAst', 'LTO', 'LStl', 'LBlk', 'LPF', \n",
    "    'WFGM', 'WFGA', 'WFGM3', 'WFGA3', 'WFTM', 'WFTA', 'WOR', 'WDR', 'WAst', 'WTO', 'WStl', 'WBlk', 'WPF']]\n",
    "\n",
    "    dfswap.loc[df['WLoc'] == 'H', 'WLoc'] = 'A'\n",
    "    dfswap.loc[df['WLoc'] == 'A', 'WLoc'] = 'H'\n",
    "    df.columns.values[6] = 'location'\n",
    "    dfswap.columns.values[6] = 'location'    \n",
    "      \n",
    "    df.columns = [x.replace('W','T1_').replace('L','T2_') for x in list(df.columns)]\n",
    "    dfswap.columns = [x.replace('L','T1_').replace('W','T2_') for x in list(dfswap.columns)]\n",
    "\n",
    "    output = pd.concat([df, dfswap]).reset_index(drop=True)\n",
    "    output.loc[output.location=='N','location'] = '0'\n",
    "    output.loc[output.location=='H','location'] = '1'\n",
    "    output.loc[output.location=='A','location'] = '-1'\n",
    "    output.location = output.location.astype(int)\n",
    "    \n",
    "    output['PointDiff'] = output['T1_Score'] - output['T2_Score']\n",
    "    \n",
    "    return output"
   ]
  },
  {
   "cell_type": "code",
   "execution_count": null,
   "metadata": {
    "_uuid": "6a7bf779e16fe27aa89633ff78f89d452794aa84"
   },
   "outputs": [],
   "source": [
    "regular_data = prepare_data(regular_results)\n",
    "tourney_data = prepare_data(tourney_results)"
   ]
  },
  {
   "cell_type": "code",
   "execution_count": null,
   "metadata": {
    "_uuid": "25fd162e9472a6c428717a390ab79830bbaf2d80"
   },
   "outputs": [],
   "source": [
    "regular_data.shape"
   ]
  },
  {
   "cell_type": "code",
   "execution_count": null,
   "metadata": {
    "_uuid": "521e7b66fde67ef7fecb79e8e9b93bd344f53f32"
   },
   "outputs": [],
   "source": [
    "tourney_data.shape"
   ]
  },
  {
   "cell_type": "code",
   "execution_count": null,
   "metadata": {},
   "outputs": [],
   "source": [
    "tourney_data.tail()"
   ]
  },
  {
   "cell_type": "code",
   "execution_count": null,
   "metadata": {
    "_uuid": "08746285f427ee5f4efed98a28ae3b602740d1f8"
   },
   "outputs": [],
   "source": [
    "regular_data.head()"
   ]
  },
  {
   "cell_type": "code",
   "execution_count": null,
   "metadata": {
    "_uuid": "204c3c558abb6f3032b3a506d039a934d6c7f8ec"
   },
   "outputs": [],
   "source": [
    "tourney_data.head()"
   ]
  },
  {
   "cell_type": "markdown",
   "metadata": {
    "_uuid": "6dbbc08907e17be459f936ed59e6f50a6dade35c"
   },
   "source": [
    "# Feature engineering!"
   ]
  },
  {
   "cell_type": "code",
   "execution_count": null,
   "metadata": {
    "_uuid": "af44a1f421daf0af7b82d50c10024d9460171282"
   },
   "outputs": [],
   "source": [
    "tourney_data.columns"
   ]
  },
  {
   "cell_type": "code",
   "execution_count": null,
   "metadata": {
    "_uuid": "ca9f902b70fce0de0db21be2e9f047b233e4d65c"
   },
   "outputs": [],
   "source": [
    "boxscore_cols = ['T1_Score', 'T2_Score', \n",
    "        'T1_FGM', 'T1_FGA', 'T1_FGM3', 'T1_FGA3', 'T1_FTM', 'T1_FTA', 'T1_OR', 'T1_DR', 'T1_Ast', 'T1_TO', 'T1_Stl', 'T1_Blk', 'T1_PF', \n",
    "        'T2_FGM', 'T2_FGA', 'T2_FGM3', 'T2_FGA3', 'T2_FTM', 'T2_FTA', 'T2_OR', 'T2_DR', 'T2_Ast', 'T2_TO', 'T2_Stl', 'T2_Blk', 'T2_PF', \n",
    "        'PointDiff']\n",
    "\n",
    "boxscore_cols = [\n",
    "        'T1_FGM', 'T1_FGA', 'T1_FGM3', 'T1_FGA3', 'T1_OR', 'T1_Ast', 'T1_TO', 'T1_Stl', 'T1_PF', \n",
    "        'T2_FGM', 'T2_FGA', 'T2_FGM3', 'T2_FGA3', 'T2_OR', 'T2_Ast', 'T2_TO', 'T2_Stl', 'T2_Blk',  \n",
    "        'PointDiff']\n",
    "\n",
    "funcs = [np.mean]"
   ]
  },
  {
   "cell_type": "code",
   "execution_count": null,
   "metadata": {
    "_uuid": "cf3b9993b75751d5a380afa30b0e9519cf18e639",
    "scrolled": true
   },
   "outputs": [],
   "source": [
    "season_statistics = regular_data.groupby([\"Season\", 'T1_TeamID'])[boxscore_cols].agg(funcs)\n",
    "season_statistics.head()"
   ]
  },
  {
   "cell_type": "code",
   "execution_count": null,
   "metadata": {
    "_uuid": "f9a9e13c103cda1cb629cb6a1e5812be3cbc58ba"
   },
   "outputs": [],
   "source": [
    "season_statistics = regular_data.groupby([\"Season\", 'T1_TeamID'])[boxscore_cols].agg(funcs).reset_index()\n",
    "season_statistics.head()"
   ]
  },
  {
   "cell_type": "code",
   "execution_count": null,
   "metadata": {
    "_uuid": "f5adaa0d355031846a7cfcb6b1770f3371a4fc18"
   },
   "outputs": [],
   "source": [
    "season_statistics.columns = [''.join(col).strip() for col in season_statistics.columns.values]\n",
    "season_statistics.head()"
   ]
  },
  {
   "cell_type": "code",
   "execution_count": null,
   "metadata": {
    "_uuid": "bac629b77123932c43842a10dbbe1ac6e6d5871b"
   },
   "outputs": [],
   "source": [
    "season_statistics_T1 = season_statistics.copy()\n",
    "season_statistics_T2 = season_statistics.copy()\n",
    "\n",
    "season_statistics_T1.columns = [\"T1_\" + x.replace(\"T1_\",\"\").replace(\"T2_\",\"opponent_\") for x in list(season_statistics_T1.columns)]\n",
    "season_statistics_T2.columns = [\"T2_\" + x.replace(\"T1_\",\"\").replace(\"T2_\",\"opponent_\") for x in list(season_statistics_T2.columns)]\n",
    "season_statistics_T1.columns.values[0] = \"Season\"\n",
    "season_statistics_T2.columns.values[0] = \"Season\""
   ]
  },
  {
   "cell_type": "code",
   "execution_count": null,
   "metadata": {
    "_uuid": "46a5fc731f5502ebf13d8c6f26bb1ad1b656ed24"
   },
   "outputs": [],
   "source": [
    "season_statistics_T1.head()"
   ]
  },
  {
   "cell_type": "code",
   "execution_count": null,
   "metadata": {
    "_uuid": "7fbca36fcc909a327ce5cd2d0acf0b67658edc9c"
   },
   "outputs": [],
   "source": [
    "season_statistics_T2.head()"
   ]
  },
  {
   "cell_type": "code",
   "execution_count": null,
   "metadata": {
    "_uuid": "48caaec080d98bbfa25356c461384213165aafed"
   },
   "outputs": [],
   "source": [
    "tourney_data.head()"
   ]
  },
  {
   "cell_type": "code",
   "execution_count": null,
   "metadata": {
    "_uuid": "632f6a9c61b60ed1ea391aa784589356a228c429"
   },
   "outputs": [],
   "source": [
    "tourney_data = tourney_data[['Season', 'DayNum', 'T1_TeamID', 'T1_Score', 'T2_TeamID' ,'T2_Score']]\n",
    "tourney_data.head()"
   ]
  },
  {
   "cell_type": "code",
   "execution_count": null,
   "metadata": {
    "_uuid": "b695d847f457c01b16ca4649d5219fb326ee180e"
   },
   "outputs": [],
   "source": [
    "tourney_data = pd.merge(tourney_data, season_statistics_T1, on = ['Season', 'T1_TeamID'], how = 'left')\n",
    "tourney_data = pd.merge(tourney_data, season_statistics_T2, on = ['Season', 'T2_TeamID'], how = 'left')"
   ]
  },
  {
   "cell_type": "code",
   "execution_count": null,
   "metadata": {
    "_uuid": "b3e3c27a588d4fc404f67cf1c65566e79e80e4b5"
   },
   "outputs": [],
   "source": [
    "tourney_data.head()"
   ]
  },
  {
   "cell_type": "code",
   "execution_count": null,
   "metadata": {
    "_uuid": "bbe5b07505a16c7fa38e486c11089dd68122ae56"
   },
   "outputs": [],
   "source": [
    "last14days_stats_T1 = regular_data.loc[regular_data.DayNum>118].reset_index(drop=True)\n",
    "last14days_stats_T1['win'] = np.where(last14days_stats_T1['PointDiff']>0,1,0)\n",
    "last14days_stats_T1 = last14days_stats_T1.groupby(['Season','T1_TeamID'])['win'].mean().reset_index(name='T1_win_ratio_14d')\n",
    "\n",
    "last14days_stats_T2 = regular_data.loc[regular_data.DayNum>118].reset_index(drop=True)\n",
    "last14days_stats_T2['win'] = np.where(last14days_stats_T2['PointDiff']<0,1,0)\n",
    "last14days_stats_T2 = last14days_stats_T2.groupby(['Season','T2_TeamID'])['win'].mean().reset_index(name='T2_win_ratio_14d')"
   ]
  },
  {
   "cell_type": "code",
   "execution_count": null,
   "metadata": {
    "_uuid": "45043a5cdadb497bd284956908a8d6e7053d7f71"
   },
   "outputs": [],
   "source": [
    "tourney_data = pd.merge(tourney_data, last14days_stats_T1, on = ['Season', 'T1_TeamID'], how = 'left')\n",
    "tourney_data = pd.merge(tourney_data, last14days_stats_T2, on = ['Season', 'T2_TeamID'], how = 'left')"
   ]
  },
  {
   "cell_type": "code",
   "execution_count": null,
   "metadata": {},
   "outputs": [],
   "source": [
    "tourney_data.columns"
   ]
  },
  {
   "cell_type": "code",
   "execution_count": null,
   "metadata": {
    "_uuid": "0119bb397cea0028aeb4247034ef6096e738becf"
   },
   "outputs": [],
   "source": [
    "regular_season_effects = regular_data[['Season','T1_TeamID','T2_TeamID','PointDiff']].copy()\n",
    "regular_season_effects['T1_TeamID'] = regular_season_effects['T1_TeamID'].astype(str)\n",
    "regular_season_effects['T2_TeamID'] = regular_season_effects['T2_TeamID'].astype(str)\n",
    "regular_season_effects['win'] = np.where(regular_season_effects['PointDiff']>0,1,0)\n",
    "march_madness = pd.merge(seeds[['Season','TeamID']],seeds[['Season','TeamID']],on='Season')\n",
    "march_madness.columns = ['Season', 'T1_TeamID', 'T2_TeamID']\n",
    "march_madness.T1_TeamID = march_madness.T1_TeamID.astype(str)\n",
    "march_madness.T2_TeamID = march_madness.T2_TeamID.astype(str)\n",
    "regular_season_effects = pd.merge(regular_season_effects, march_madness, on = ['Season','T1_TeamID','T2_TeamID'])\n",
    "regular_season_effects.shape"
   ]
  },
  {
   "cell_type": "code",
   "execution_count": null,
   "metadata": {
    "_uuid": "4d9b04a51db542edb705c94ed145d90af2ad2f15"
   },
   "outputs": [],
   "source": [
    "def team_quality(season):\n",
    "    formula = 'win~-1+T1_TeamID+T2_TeamID'\n",
    "    glm = sm.GLM.from_formula(formula=formula, \n",
    "                              data=regular_season_effects.loc[regular_season_effects.Season==season,:], \n",
    "                              family=sm.families.Binomial()).fit()\n",
    "    \n",
    "    quality = pd.DataFrame(glm.params).reset_index()\n",
    "    quality.columns = ['TeamID','quality']\n",
    "    quality['Season'] = season\n",
    "    quality['quality'] = np.exp(quality['quality'])\n",
    "    quality = quality.loc[quality.TeamID.str.contains('T1_')].reset_index(drop=True)\n",
    "    quality['TeamID'] = quality['TeamID'].apply(lambda x: x[10:14]).astype(int)\n",
    "    return quality"
   ]
  },
  {
   "cell_type": "code",
   "execution_count": null,
   "metadata": {},
   "outputs": [],
   "source": [
    "tourney_data.tail()"
   ]
  },
  {
   "cell_type": "code",
   "execution_count": null,
   "metadata": {
    "_uuid": "429315fc0c263ade63d05b53ea3eb5666de542fc"
   },
   "outputs": [],
   "source": [
    "seeds.head()"
   ]
  },
  {
   "cell_type": "code",
   "execution_count": null,
   "metadata": {},
   "outputs": [],
   "source": [
    "seeds.tail()"
   ]
  },
  {
   "cell_type": "code",
   "execution_count": null,
   "metadata": {
    "_uuid": "f2ce28123dfc563a8b1fb58f98401c927e2eb7c2"
   },
   "outputs": [],
   "source": [
    "seeds['seed'] = seeds['Seed'].apply(lambda x: int(x[1:3]))\n",
    "seeds.head()"
   ]
  },
  {
   "cell_type": "code",
   "execution_count": null,
   "metadata": {
    "_uuid": "e2d6a4e33b062401088f472b698cc9cabff3a612"
   },
   "outputs": [],
   "source": [
    "seeds_T1 = seeds[['Season','TeamID','seed']].copy()\n",
    "seeds_T2 = seeds[['Season','TeamID','seed']].copy()\n",
    "seeds_T1.columns = ['Season','T1_TeamID','T1_seed']\n",
    "seeds_T2.columns = ['Season','T2_TeamID','T2_seed']"
   ]
  },
  {
   "cell_type": "code",
   "execution_count": null,
   "metadata": {
    "_uuid": "3ce355578d9881346602388e2df329cafd1f24e7"
   },
   "outputs": [],
   "source": [
    "tourney_data = pd.merge(tourney_data, seeds_T1, on = ['Season', 'T1_TeamID'], how = 'left')\n",
    "tourney_data = pd.merge(tourney_data, seeds_T2, on = ['Season', 'T2_TeamID'], how = 'left')"
   ]
  },
  {
   "cell_type": "code",
   "execution_count": null,
   "metadata": {},
   "outputs": [],
   "source": [
    "tourney_data.tail()"
   ]
  },
  {
   "cell_type": "code",
   "execution_count": null,
   "metadata": {
    "_uuid": "b4785045b4d0619a80a71e7bc66831341a187b7b"
   },
   "outputs": [],
   "source": [
    "tourney_data[\"Seed_diff\"] = tourney_data[\"T1_seed\"] - tourney_data[\"T2_seed\"]"
   ]
  },
  {
   "cell_type": "code",
   "execution_count": null,
   "metadata": {},
   "outputs": [],
   "source": [
    "tourney_data[tourney_data[\"Seed_diff\"] == 0]"
   ]
  },
  {
   "cell_type": "markdown",
   "metadata": {
    "_uuid": "c2ba59b62b09fc5b5514a2cca4ca5408e9a2b71a"
   },
   "source": [
    "# Time to build some models!"
   ]
  },
  {
   "cell_type": "code",
   "execution_count": null,
   "metadata": {
    "_uuid": "9981fb89482e120adc3c014b1607c160383081f8"
   },
   "outputs": [],
   "source": [
    "y = tourney_data['T1_Score'] - tourney_data['T2_Score']\n",
    "y.describe()"
   ]
  },
  {
   "cell_type": "code",
   "execution_count": null,
   "metadata": {
    "_uuid": "5c39d0b7d4cb59068bdb90065181390ca86f095d"
   },
   "outputs": [],
   "source": [
    "features = list(season_statistics_T1.columns[2:999]) + \\\n",
    "    list(season_statistics_T2.columns[2:999]) + \\\n",
    "    list(seeds_T1.columns[2:999]) + \\\n",
    "    list(seeds_T2.columns[2:999]) + \\\n",
    "    list(last14days_stats_T1.columns[2:999]) + \\\n",
    "    list(last14days_stats_T2.columns[2:999]) + \\\n",
    "    [\"Seed_diff\"]\n",
    "\n",
    "len(features)"
   ]
  },
  {
   "cell_type": "code",
   "execution_count": null,
   "metadata": {
    "_uuid": "a0632be8ffefd40903c86e266a3848ef39d3571a"
   },
   "outputs": [],
   "source": [
    "X = tourney_data[features].values\n",
    "dtrain = xgb.DMatrix(X, label = y)"
   ]
  },
  {
   "cell_type": "code",
   "execution_count": null,
   "metadata": {
    "_uuid": "1816ebbcb0c348919e7ceeb0fd6509e8601ad567"
   },
   "outputs": [],
   "source": [
    "def cauchyobj(preds, dtrain):\n",
    "    labels = dtrain.get_label()\n",
    "    c = 5000 \n",
    "    x =  preds-labels    \n",
    "    grad = x / (x**2/c**2+1)\n",
    "    hess = -c**2*(x**2-c**2)/(x**2+c**2)**2\n",
    "    return grad, hess"
   ]
  },
  {
   "cell_type": "code",
   "execution_count": null,
   "metadata": {
    "_uuid": "7b726f9fa289643e02c5b4eb837443d83f00a831",
    "scrolled": true
   },
   "outputs": [],
   "source": [
    "param = {} \n",
    "#param['objective'] = 'reg:linear'\n",
    "param['eval_metric'] =  'mae'\n",
    "param['booster'] = 'gbtree'\n",
    "param['eta'] = 0.05 #change to ~0.02 for final run\n",
    "param['subsample'] = 0.35\n",
    "param['colsample_bytree'] = 0.7\n",
    "param['num_parallel_tree'] = 3 #recommend 10\n",
    "param['min_child_weight'] = 40\n",
    "param['gamma'] = 10\n",
    "param['max_depth'] =  3\n",
    "param['silent'] = 1\n",
    "\n",
    "print(param)"
   ]
  },
  {
   "cell_type": "code",
   "execution_count": null,
   "metadata": {
    "_uuid": "ac7c1d166298eeb3c06d884ecb7874a5ef618d27"
   },
   "outputs": [],
   "source": [
    "xgb_cv = []\n",
    "repeat_cv = 3 # recommend 10\n",
    "\n",
    "for i in range(repeat_cv): \n",
    "    print(f\"Fold repeater {i}\")\n",
    "    xgb_cv.append(\n",
    "        xgb.cv(\n",
    "          params = param,\n",
    "          dtrain = dtrain,\n",
    "          obj = cauchyobj,\n",
    "          num_boost_round = 3000,\n",
    "          folds = KFold(n_splits = 5, shuffle = True, random_state = i),\n",
    "          early_stopping_rounds = 25,\n",
    "          verbose_eval = 50\n",
    "        )\n",
    "    )"
   ]
  },
  {
   "cell_type": "code",
   "execution_count": null,
   "metadata": {
    "_uuid": "e76e9a3c2e209243950fcb0b0ec28cc1c729b40f"
   },
   "outputs": [],
   "source": [
    "iteration_counts = [np.argmin(x['test-mae-mean'].values) for x in xgb_cv]\n",
    "val_mae = [np.min(x['test-mae-mean'].values) for x in xgb_cv]\n",
    "iteration_counts, val_mae"
   ]
  },
  {
   "cell_type": "code",
   "execution_count": null,
   "metadata": {
    "_uuid": "005e51b486d6853ede2091bf7dd36bfecc340542"
   },
   "outputs": [],
   "source": [
    "oof_preds = []\n",
    "for i in range(repeat_cv):\n",
    "    print(f\"Fold repeater {i}\")\n",
    "    preds = y.copy()\n",
    "    kfold = KFold(n_splits = 5, shuffle = True, random_state = i)    \n",
    "    for train_index, val_index in kfold.split(X,y):\n",
    "        dtrain_i = xgb.DMatrix(X[train_index], label = y[train_index])\n",
    "        dval_i = xgb.DMatrix(X[val_index], label = y[val_index])  \n",
    "        model = xgb.train(\n",
    "              params = param,\n",
    "              dtrain = dtrain_i,\n",
    "              num_boost_round = iteration_counts[i],\n",
    "              verbose_eval = 50\n",
    "        )\n",
    "        preds[val_index] = model.predict(dval_i)\n",
    "    oof_preds.append(np.clip(preds,-30,30))"
   ]
  },
  {
   "cell_type": "code",
   "execution_count": null,
   "metadata": {
    "_uuid": "27281822aa36656d962d855d1791914b8d51a0e6"
   },
   "outputs": [],
   "source": [
    "plot_df = pd.DataFrame({\"pred\":oof_preds[0], \"label\":np.where(y>0,1,0)})\n",
    "plot_df[\"pred_int\"] = plot_df[\"pred\"].astype(int)\n",
    "plot_df = plot_df.groupby('pred_int')['label'].mean().reset_index(name='average_win_pct')\n",
    "\n",
    "plt.figure()\n",
    "plt.plot(plot_df.pred_int,plot_df.average_win_pct)"
   ]
  },
  {
   "cell_type": "code",
   "execution_count": null,
   "metadata": {
    "_uuid": "80131eb61294dd14c9a4b84f59b54f173d37a605"
   },
   "outputs": [],
   "source": [
    "spline_model = []\n",
    "\n",
    "for i in range(repeat_cv):\n",
    "    dat = list(zip(oof_preds[i],np.where(y>0,1,0)))\n",
    "    dat = sorted(dat, key = lambda x: x[0])\n",
    "    datdict = {}\n",
    "    for k in range(len(dat)):\n",
    "        datdict[dat[k][0]]= dat[k][1]\n",
    "        \n",
    "    spline_model.append(UnivariateSpline(list(datdict.keys()), list(datdict.values())))\n",
    "    spline_fit = spline_model[i](oof_preds[i])\n",
    "    \n",
    "    print(f\"logloss of cvsplit {i}: {log_loss(np.where(y>0,1,0),spline_fit)}\") "
   ]
  },
  {
   "cell_type": "code",
   "execution_count": null,
   "metadata": {
    "_uuid": "5c5313989cfa1fb2cfa57e4ddb1e2a22ab290423"
   },
   "outputs": [],
   "source": [
    "plot_df = pd.DataFrame({\"pred\":oof_preds[0], \"label\":np.where(y>0,1,0), \"spline\":spline_model[0](oof_preds[0])})\n",
    "plot_df[\"pred_int\"] = (plot_df[\"pred\"]).astype(int)\n",
    "plot_df = plot_df.groupby('pred_int')['spline','label'].mean().reset_index()\n",
    "\n",
    "plt.figure()\n",
    "plt.plot(plot_df.pred_int,plot_df.spline)\n",
    "plt.plot(plot_df.pred_int,plot_df.label)"
   ]
  },
  {
   "cell_type": "code",
   "execution_count": null,
   "metadata": {
    "_uuid": "2b06344b5c968cfcd5c5840db36db184de311f96"
   },
   "outputs": [],
   "source": [
    "spline_model = []\n",
    "\n",
    "for i in range(repeat_cv):\n",
    "    dat = list(zip(oof_preds[i],np.where(y>0,1,0)))\n",
    "    dat = sorted(dat, key = lambda x: x[0])\n",
    "    datdict = {}\n",
    "    for k in range(len(dat)):\n",
    "        datdict[dat[k][0]]= dat[k][1]\n",
    "    spline_model.append(UnivariateSpline(list(datdict.keys()), list(datdict.values())))\n",
    "    spline_fit = spline_model[i](oof_preds[i])\n",
    "    spline_fit = np.clip(spline_fit,0.025,0.975)\n",
    "    \n",
    "    print(f\"adjusted logloss of cvsplit {i}: {log_loss(np.where(y>0,1,0),spline_fit)}\") "
   ]
  },
  {
   "cell_type": "code",
   "execution_count": null,
   "metadata": {
    "_uuid": "701351545f58a26cbd8afe55196df383f570517d"
   },
   "outputs": [],
   "source": [
    "spline_model = []\n",
    "\n",
    "for i in range(repeat_cv):\n",
    "    dat = list(zip(oof_preds[i],np.where(y>0,1,0)))\n",
    "    dat = sorted(dat, key = lambda x: x[0])\n",
    "    datdict = {}\n",
    "    for k in range(len(dat)):\n",
    "        datdict[dat[k][0]]= dat[k][1]\n",
    "    spline_model.append(UnivariateSpline(list(datdict.keys()), list(datdict.values())))\n",
    "    spline_fit = spline_model[i](oof_preds[i])\n",
    "    spline_fit = np.clip(spline_fit,0.025,0.975)\n",
    "    spline_fit[(tourney_data.T1_seed==1) & (tourney_data.T2_seed==16)] = 1.0\n",
    "    spline_fit[(tourney_data.T1_seed==2) & (tourney_data.T2_seed==15)] = 1.0\n",
    "    spline_fit[(tourney_data.T1_seed==3) & (tourney_data.T2_seed==14)] = 1.0\n",
    "    spline_fit[(tourney_data.T1_seed==4) & (tourney_data.T2_seed==13)] = 1.0\n",
    "    spline_fit[(tourney_data.T1_seed==16) & (tourney_data.T2_seed==1)] = 0.0\n",
    "    spline_fit[(tourney_data.T1_seed==15) & (tourney_data.T2_seed==2)] = 0.0\n",
    "    spline_fit[(tourney_data.T1_seed==14) & (tourney_data.T2_seed==3)] = 0.0\n",
    "    spline_fit[(tourney_data.T1_seed==13) & (tourney_data.T2_seed==4)] = 0.0\n",
    "    \n",
    "    print(f\"adjusted logloss of cvsplit {i}: {log_loss(np.where(y>0,1,0),spline_fit)}\") "
   ]
  },
  {
   "cell_type": "code",
   "execution_count": null,
   "metadata": {
    "_uuid": "575ae5e165fcde8fecec21f0df0d27fd8fa0726a"
   },
   "outputs": [],
   "source": [
    "#looking for upsets\n",
    "pd.concat(\n",
    "    [tourney_data[(tourney_data.T1_seed==1) & (tourney_data.T2_seed==16) & (tourney_data.T1_Score < tourney_data.T2_Score)],\n",
    "     tourney_data[(tourney_data.T1_seed==2) & (tourney_data.T2_seed==15) & (tourney_data.T1_Score < tourney_data.T2_Score)],\n",
    "     tourney_data[(tourney_data.T1_seed==3) & (tourney_data.T2_seed==14) & (tourney_data.T1_Score < tourney_data.T2_Score)],\n",
    "     tourney_data[(tourney_data.T1_seed==4) & (tourney_data.T2_seed==13) & (tourney_data.T1_Score < tourney_data.T2_Score)],\n",
    "     tourney_data[(tourney_data.T1_seed==16) & (tourney_data.T2_seed==1) & (tourney_data.T1_Score > tourney_data.T2_Score)],\n",
    "     tourney_data[(tourney_data.T1_seed==15) & (tourney_data.T2_seed==2) & (tourney_data.T1_Score > tourney_data.T2_Score)],\n",
    "     tourney_data[(tourney_data.T1_seed==14) & (tourney_data.T2_seed==3) & (tourney_data.T1_Score > tourney_data.T2_Score)],\n",
    "     tourney_data[(tourney_data.T1_seed==13) & (tourney_data.T2_seed==4) & (tourney_data.T1_Score > tourney_data.T2_Score)]]\n",
    ")   \n",
    "\n",
    "#https://en.wikipedia.org/wiki/NCAA_Division_I_Women%27s_Basketball_Tournament_upsets"
   ]
  },
  {
   "cell_type": "code",
   "execution_count": null,
   "metadata": {
    "_uuid": "3aad32289e9d47005b85793d952555104b0e45ad"
   },
   "outputs": [],
   "source": [
    "spline_model = []\n",
    "\n",
    "for i in range(repeat_cv):\n",
    "    dat = list(zip(oof_preds[i],np.where(y>0,1,0)))\n",
    "    dat = sorted(dat, key = lambda x: x[0])\n",
    "    datdict = {}\n",
    "    for k in range(len(dat)):\n",
    "        datdict[dat[k][0]]= dat[k][1]\n",
    "    spline_model.append(UnivariateSpline(list(datdict.keys()), list(datdict.values())))\n",
    "    spline_fit = spline_model[i](oof_preds[i])\n",
    "    spline_fit = np.clip(spline_fit,0.025,0.975)\n",
    "    spline_fit[(tourney_data.T1_seed==1) & (tourney_data.T2_seed==16) & (tourney_data.T1_Score > tourney_data.T2_Score)] = 1.0\n",
    "    spline_fit[(tourney_data.T1_seed==2) & (tourney_data.T2_seed==15) & (tourney_data.T1_Score > tourney_data.T2_Score)] = 1.0\n",
    "    spline_fit[(tourney_data.T1_seed==3) & (tourney_data.T2_seed==14) & (tourney_data.T1_Score > tourney_data.T2_Score)] = 1.0\n",
    "    spline_fit[(tourney_data.T1_seed==4) & (tourney_data.T2_seed==13) & (tourney_data.T1_Score > tourney_data.T2_Score)] = 1.0\n",
    "    spline_fit[(tourney_data.T1_seed==16) & (tourney_data.T2_seed==1) & (tourney_data.T1_Score < tourney_data.T2_Score)] = 0.0\n",
    "    spline_fit[(tourney_data.T1_seed==15) & (tourney_data.T2_seed==2) & (tourney_data.T1_Score < tourney_data.T2_Score)] = 0.0\n",
    "    spline_fit[(tourney_data.T1_seed==14) & (tourney_data.T2_seed==3) & (tourney_data.T1_Score < tourney_data.T2_Score)] = 0.0\n",
    "    spline_fit[(tourney_data.T1_seed==13) & (tourney_data.T2_seed==4) & (tourney_data.T1_Score < tourney_data.T2_Score)] = 0.0\n",
    "    \n",
    "    print(f\"adjusted logloss of cvsplit {i}: {log_loss(np.where(y>0,1,0),spline_fit)}\") "
   ]
  },
  {
   "cell_type": "code",
   "execution_count": null,
   "metadata": {
    "_uuid": "afc43d2f93dac2fe257e670f952c02e74a0b0bdb",
    "scrolled": true
   },
   "outputs": [],
   "source": [
    "val_cv = []\n",
    "spline_model = []\n",
    "\n",
    "for i in range(repeat_cv):\n",
    "    dat = list(zip(oof_preds[i],np.where(y>0,1,0)))\n",
    "    dat = sorted(dat, key = lambda x: x[0])\n",
    "    datdict = {}\n",
    "    for k in range(len(dat)):\n",
    "        datdict[dat[k][0]]= dat[k][1]\n",
    "    spline_model.append(UnivariateSpline(list(datdict.keys()), list(datdict.values())))\n",
    "    spline_fit = spline_model[i](oof_preds[i])\n",
    "    spline_fit = np.clip(spline_fit,0.025,0.975)\n",
    "    spline_fit[(tourney_data.T1_seed==1) & (tourney_data.T2_seed==16) & (tourney_data.T1_Score > tourney_data.T2_Score)] = 1.0\n",
    "    spline_fit[(tourney_data.T1_seed==2) & (tourney_data.T2_seed==15) & (tourney_data.T1_Score > tourney_data.T2_Score)] = 1.0\n",
    "    spline_fit[(tourney_data.T1_seed==3) & (tourney_data.T2_seed==14) & (tourney_data.T1_Score > tourney_data.T2_Score)] = 1.0\n",
    "    spline_fit[(tourney_data.T1_seed==4) & (tourney_data.T2_seed==13) & (tourney_data.T1_Score > tourney_data.T2_Score)] = 1.0\n",
    "    spline_fit[(tourney_data.T1_seed==16) & (tourney_data.T2_seed==1) & (tourney_data.T1_Score < tourney_data.T2_Score)] = 0.0\n",
    "    spline_fit[(tourney_data.T1_seed==15) & (tourney_data.T2_seed==2) & (tourney_data.T1_Score < tourney_data.T2_Score)] = 0.0\n",
    "    spline_fit[(tourney_data.T1_seed==14) & (tourney_data.T2_seed==3) & (tourney_data.T1_Score < tourney_data.T2_Score)] = 0.0\n",
    "    spline_fit[(tourney_data.T1_seed==13) & (tourney_data.T2_seed==4) & (tourney_data.T1_Score < tourney_data.T2_Score)] = 0.0\n",
    "    \n",
    "    val_cv.append(pd.DataFrame({\"y\":np.where(y>0,1,0), \"pred\":spline_fit, \"season\":tourney_data.Season}))\n",
    "    print(f\"adjusted logloss of cvsplit {i}: {log_loss(np.where(y>0,1,0),spline_fit)}\") \n",
    "    \n",
    "val_cv = pd.concat(val_cv)\n",
    "val_cv.groupby('season').apply(lambda x: log_loss(x.y, x.pred))"
   ]
  },
  {
   "cell_type": "markdown",
   "metadata": {
    "_uuid": "0c06e55e0ed14fd6c3c625e01aca69ae873d74c3"
   },
   "source": [
    "# Submission time!"
   ]
  },
  {
   "cell_type": "code",
   "execution_count": null,
   "metadata": {
    "_uuid": "840525feee6f9406554c9b5170a39b815ce5ba22"
   },
   "outputs": [],
   "source": [
    "sub = pd.read_csv('../../data/2021/MSampleSubmissionStage2.csv')\n",
    "sub.head()"
   ]
  },
  {
   "cell_type": "code",
   "execution_count": null,
   "metadata": {
    "_uuid": "f2fb2bbe182ac6d6da98cd5c0086a3089988a62a"
   },
   "outputs": [],
   "source": [
    "sub[\"Season\"] = 2021\n",
    "sub[\"T1_TeamID\"] = sub[\"ID\"].apply(lambda x: x[5:9]).astype(int)\n",
    "sub[\"T2_TeamID\"] = sub[\"ID\"].apply(lambda x: x[10:14]).astype(int)\n",
    "sub.head()"
   ]
  },
  {
   "cell_type": "code",
   "execution_count": null,
   "metadata": {
    "_uuid": "861d6c4c12a094804f9cf0ea2c14c0c5136d164c"
   },
   "outputs": [],
   "source": [
    "sub = pd.merge(sub, season_statistics_T1, on = ['Season', 'T1_TeamID'])\n",
    "sub = pd.merge(sub, season_statistics_T2, on = ['Season', 'T2_TeamID'])\n",
    "sub = pd.merge(sub, seeds_T1, on = ['Season', 'T1_TeamID'])\n",
    "sub = pd.merge(sub, seeds_T2, on = ['Season', 'T2_TeamID'])\n",
    "sub = pd.merge(sub, last14days_stats_T1, on = ['Season', 'T1_TeamID'])\n",
    "sub = pd.merge(sub, last14days_stats_T2, on = ['Season', 'T2_TeamID'])\n",
    "sub[\"Seed_diff\"] = sub[\"T1_seed\"] - sub[\"T2_seed\"]\n",
    "sub.head()"
   ]
  },
  {
   "cell_type": "code",
   "execution_count": null,
   "metadata": {},
   "outputs": [],
   "source": [
    "len(sub)"
   ]
  },
  {
   "cell_type": "code",
   "execution_count": null,
   "metadata": {
    "_uuid": "cb1627abe53f9db9fdb5be2e45a739e0f78ede83"
   },
   "outputs": [],
   "source": [
    "Xsub = sub[features].values\n",
    "dtest = xgb.DMatrix(Xsub)"
   ]
  },
  {
   "cell_type": "code",
   "execution_count": null,
   "metadata": {
    "_uuid": "a700a993c601d9692f2374f11c8eadb234979086",
    "scrolled": false
   },
   "outputs": [],
   "source": [
    "sub_models = []\n",
    "for i in range(repeat_cv):\n",
    "    print(f\"Fold repeater {i}\")\n",
    "    sub_models.append(\n",
    "        xgb.train(\n",
    "          params = param,\n",
    "          dtrain = dtrain,\n",
    "          num_boost_round = int(iteration_counts[i] * 1.05),\n",
    "          verbose_eval = 50\n",
    "        )\n",
    "    )"
   ]
  },
  {
   "cell_type": "code",
   "execution_count": null,
   "metadata": {
    "_uuid": "01757a38a0ad222dec31bf062ceee7cfb61a6b16"
   },
   "outputs": [],
   "source": [
    "sub_preds = []\n",
    "for i in range(repeat_cv):\n",
    "    sub_preds.append(np.clip(spline_model[i](np.clip(sub_models[i].predict(dtest),-30,30)),0.025,0.975))\n",
    "    \n",
    "sub[\"Pred\"] = pd.DataFrame(sub_preds).mean(axis=0)\n",
    "\n",
    "sub.loc[(sub.T1_seed==1) & (sub.T2_seed==16), 'Pred'] = 1.0\n",
    "sub.loc[(sub.T1_seed==2) & (sub.T2_seed==15), 'Pred'] = 1.0\n",
    "sub.loc[(sub.T1_seed==3) & (sub.T2_seed==14), 'Pred'] = 1.0\n",
    "sub.loc[(sub.T1_seed==4) & (sub.T2_seed==13), 'Pred'] = 1.0\n",
    "sub.loc[(sub.T1_seed==16) & (sub.T2_seed==1), 'Pred'] = 0.0\n",
    "sub.loc[(sub.T1_seed==15) & (sub.T2_seed==2), 'Pred'] = 0.0\n",
    "sub.loc[(sub.T1_seed==14) & (sub.T2_seed==3), 'Pred'] = 0.0\n",
    "sub.loc[(sub.T1_seed==13) & (sub.T2_seed==4), 'Pred'] = 0.0\n",
    "\n",
    "sub.index += 1\n",
    "\n",
    "\n",
    "sub[['ID','Pred']].to_csv(\"ncaa-march-madness-submission.csv\")"
   ]
  },
  {
   "cell_type": "code",
   "execution_count": null,
   "metadata": {},
   "outputs": [],
   "source": [
    "sub.count()"
   ]
  },
  {
   "cell_type": "code",
   "execution_count": null,
   "metadata": {
    "_uuid": "ce959e232dd5c58f5748e74e7a5fe0c5d2d6ef6f"
   },
   "outputs": [],
   "source": [
    "import sys\n",
    "import os\n",
    "folder_name = \"march_madness\"\n",
    "BASE_DIR = os.path.abspath(\".\").split(folder_name)[0]+folder_name\n",
    "#DATA_ROOT = os.path.join(BASE_DIR, \"data\")\n",
    "sys.path.insert(0, BASE_DIR)\n",
    "\n",
    "from generate_bracket import build_bracket\n",
    "\n",
    "b = build_bracket(\n",
    "    teamsPath=\"../../data/2021/MTeams.csv\",\n",
    "    seedsPath=\"../../data/2021/MNCAATourneySeeds.csv\",\n",
    "    slotsPath=\"../../data/2021/MNCAATourneySlots.csv\",\n",
    "    submissionPath=\"ncaa-march-madness-submission.csv\",\n",
    "    emptyBracketPath=\"../../empty_bracket/empty.jpg\",\n",
    "    year=2021\n",
    ")"
   ]
  }
 ],
 "metadata": {
  "kernelspec": {
   "display_name": "Python 3",
   "language": "python",
   "name": "python3"
  },
  "language_info": {
   "codemirror_mode": {
    "name": "ipython",
    "version": 3
   },
   "file_extension": ".py",
   "mimetype": "text/x-python",
   "name": "python",
   "nbconvert_exporter": "python",
   "pygments_lexer": "ipython3",
   "version": "3.9.7"
  }
 },
 "nbformat": 4,
 "nbformat_minor": 4
}
