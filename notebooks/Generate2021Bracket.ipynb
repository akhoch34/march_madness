{
 "cells": [
  {
   "cell_type": "code",
   "execution_count": 1,
   "metadata": {},
   "outputs": [
    {
     "name": "stdout",
     "output_type": "stream",
     "text": [
      "Requirement already satisfied: binarytree in /Users/andyhoch/opt/anaconda3/lib/python3.8/site-packages (6.2.0)\r\n",
      "Requirement already satisfied: setuptools>=42 in /Users/andyhoch/opt/anaconda3/lib/python3.8/site-packages (from binarytree) (49.2.0.post20200714)\r\n",
      "Requirement already satisfied: graphviz in /Users/andyhoch/opt/anaconda3/lib/python3.8/site-packages (from binarytree) (0.16)\r\n",
      "Requirement already satisfied: setuptools-scm[toml]>=3.4 in /Users/andyhoch/opt/anaconda3/lib/python3.8/site-packages (from binarytree) (6.0.1)\r\n",
      "Requirement already satisfied: toml in /Users/andyhoch/opt/anaconda3/lib/python3.8/site-packages (from setuptools-scm[toml]>=3.4->binarytree) (0.10.1)\r\n"
     ]
    }
   ],
   "source": [
    "import sys\n",
    "\n",
    "!{sys.executable} -m pip install binarytree"
   ]
  },
  {
   "cell_type": "code",
   "execution_count": 2,
   "metadata": {},
   "outputs": [
    {
     "name": "stdout",
     "output_type": "stream",
     "text": [
      "Requirement already satisfied: pandas in /Users/andyhoch/opt/anaconda3/lib/python3.8/site-packages (1.1.5)\r\n",
      "Requirement already satisfied: python-dateutil>=2.7.3 in /Users/andyhoch/opt/anaconda3/lib/python3.8/site-packages (from pandas) (2.8.1)\r\n",
      "Requirement already satisfied: pytz>=2017.2 in /Users/andyhoch/opt/anaconda3/lib/python3.8/site-packages (from pandas) (2020.1)\r\n",
      "Requirement already satisfied: numpy>=1.15.4 in /Users/andyhoch/opt/anaconda3/lib/python3.8/site-packages (from pandas) (1.18.5)\r\n",
      "Requirement already satisfied: six>=1.5 in /Users/andyhoch/opt/anaconda3/lib/python3.8/site-packages (from python-dateutil>=2.7.3->pandas) (1.15.0)\r\n"
     ]
    }
   ],
   "source": [
    "!{sys.executable} -m pip install pandas"
   ]
  },
  {
   "cell_type": "code",
   "execution_count": 3,
   "metadata": {},
   "outputs": [
    {
     "name": "stdout",
     "output_type": "stream",
     "text": [
      "Requirement already satisfied: pillow in /Users/andyhoch/opt/anaconda3/lib/python3.8/site-packages (7.2.0)\r\n"
     ]
    }
   ],
   "source": [
    "!{sys.executable} -m pip install pillow"
   ]
  },
  {
   "cell_type": "code",
   "execution_count": 4,
   "metadata": {},
   "outputs": [
    {
     "name": "stdout",
     "output_type": "stream",
     "text": [
      "Requirement already satisfied: bracketeer in /Users/andyhoch/opt/anaconda3/lib/python3.8/site-packages (0.2.0)\n",
      "Requirement already satisfied: pandas in /Users/andyhoch/opt/anaconda3/lib/python3.8/site-packages (from bracketeer) (1.1.5)\n",
      "Requirement already satisfied: Pillow in /Users/andyhoch/opt/anaconda3/lib/python3.8/site-packages (from bracketeer) (7.2.0)\n",
      "Requirement already satisfied: binarytree in /Users/andyhoch/opt/anaconda3/lib/python3.8/site-packages (from bracketeer) (6.2.0)\n",
      "Requirement already satisfied: matplotlib in /Users/andyhoch/opt/anaconda3/lib/python3.8/site-packages (from bracketeer) (3.2.2)\n",
      "Requirement already satisfied: graphviz in /Users/andyhoch/opt/anaconda3/lib/python3.8/site-packages (from binarytree->bracketeer) (0.16)\n",
      "Requirement already satisfied: setuptools>=42 in /Users/andyhoch/opt/anaconda3/lib/python3.8/site-packages (from binarytree->bracketeer) (49.2.0.post20200714)\n",
      "Requirement already satisfied: setuptools-scm[toml]>=3.4 in /Users/andyhoch/opt/anaconda3/lib/python3.8/site-packages (from binarytree->bracketeer) (6.0.1)\n",
      "Requirement already satisfied: toml in /Users/andyhoch/opt/anaconda3/lib/python3.8/site-packages (from setuptools-scm[toml]>=3.4->binarytree->bracketeer) (0.10.1)\n",
      "Requirement already satisfied: pyparsing!=2.0.4,!=2.1.2,!=2.1.6,>=2.0.1 in /Users/andyhoch/opt/anaconda3/lib/python3.8/site-packages (from matplotlib->bracketeer) (2.4.7)\n",
      "Requirement already satisfied: kiwisolver>=1.0.1 in /Users/andyhoch/opt/anaconda3/lib/python3.8/site-packages (from matplotlib->bracketeer) (1.2.0)\n",
      "Requirement already satisfied: numpy>=1.11 in /Users/andyhoch/opt/anaconda3/lib/python3.8/site-packages (from matplotlib->bracketeer) (1.18.5)\n",
      "Requirement already satisfied: python-dateutil>=2.1 in /Users/andyhoch/opt/anaconda3/lib/python3.8/site-packages (from matplotlib->bracketeer) (2.8.1)\n",
      "Requirement already satisfied: cycler>=0.10 in /Users/andyhoch/opt/anaconda3/lib/python3.8/site-packages (from matplotlib->bracketeer) (0.10.0)\n",
      "Requirement already satisfied: six in /Users/andyhoch/opt/anaconda3/lib/python3.8/site-packages (from cycler>=0.10->matplotlib->bracketeer) (1.15.0)\n",
      "Requirement already satisfied: pytz>=2017.2 in /Users/andyhoch/opt/anaconda3/lib/python3.8/site-packages (from pandas->bracketeer) (2020.1)\n"
     ]
    }
   ],
   "source": [
    "!{sys.executable} -m pip install bracketeer"
   ]
  },
  {
   "cell_type": "code",
   "execution_count": 6,
   "metadata": {},
   "outputs": [
    {
     "ename": "IndexError",
     "evalue": "index 0 is out of bounds for axis 0 with size 0",
     "output_type": "error",
     "traceback": [
      "\u001b[0;31m---------------------------------------------------------------------------\u001b[0m",
      "\u001b[0;31mIndexError\u001b[0m                                Traceback (most recent call last)",
      "\u001b[0;32m<ipython-input-6-58c5eb02b206>\u001b[0m in \u001b[0;36m<module>\u001b[0;34m\u001b[0m\n\u001b[1;32m      1\u001b[0m \u001b[0;32mfrom\u001b[0m \u001b[0mbracketeer\u001b[0m \u001b[0;32mimport\u001b[0m \u001b[0mbuild_bracket\u001b[0m\u001b[0;34m\u001b[0m\u001b[0;34m\u001b[0m\u001b[0m\n\u001b[1;32m      2\u001b[0m \u001b[0;34m\u001b[0m\u001b[0m\n\u001b[0;32m----> 3\u001b[0;31m b = build_bracket(\n\u001b[0m\u001b[1;32m      4\u001b[0m     \u001b[0moutputPath\u001b[0m\u001b[0;34m=\u001b[0m\u001b[0;34m\"../data/2021_bracket.png\"\u001b[0m\u001b[0;34m,\u001b[0m\u001b[0;34m\u001b[0m\u001b[0;34m\u001b[0m\u001b[0m\n\u001b[1;32m      5\u001b[0m     \u001b[0mteamsPath\u001b[0m\u001b[0;34m=\u001b[0m\u001b[0;34m\"../data/MTeams.csv\"\u001b[0m\u001b[0;34m,\u001b[0m\u001b[0;34m\u001b[0m\u001b[0;34m\u001b[0m\u001b[0m\n",
      "\u001b[0;32m~/opt/anaconda3/lib/python3.8/site-packages/bracketeer/__init__.py\u001b[0m in \u001b[0;36mbuild_bracket\u001b[0;34m(outputPath, teamsPath, seedsPath, slotsPath, submissionPath, year)\u001b[0m\n\u001b[1;32m    110\u001b[0m         \u001b[0;32mfor\u001b[0m \u001b[0mix\u001b[0m\u001b[0;34m,\u001b[0m \u001b[0mnode\u001b[0m \u001b[0;32min\u001b[0m \u001b[0menumerate\u001b[0m\u001b[0;34m(\u001b[0m\u001b[0mlevel\u001b[0m\u001b[0;34m[\u001b[0m\u001b[0;36m0\u001b[0m\u001b[0;34m:\u001b[0m \u001b[0mlen\u001b[0m\u001b[0;34m(\u001b[0m\u001b[0mlevel\u001b[0m\u001b[0;34m)\u001b[0m \u001b[0;34m//\u001b[0m \u001b[0;36m2\u001b[0m\u001b[0;34m]\u001b[0m\u001b[0;34m)\u001b[0m\u001b[0;34m:\u001b[0m\u001b[0;34m\u001b[0m\u001b[0;34m\u001b[0m\u001b[0m\n\u001b[1;32m    111\u001b[0m             \u001b[0mteam1\u001b[0m\u001b[0;34m,\u001b[0m \u001b[0mteam2\u001b[0m\u001b[0;34m,\u001b[0m \u001b[0mgid\u001b[0m \u001b[0;34m=\u001b[0m \u001b[0mget_team_ids_and_gid\u001b[0m\u001b[0;34m(\u001b[0m\u001b[0mlevel\u001b[0m\u001b[0;34m[\u001b[0m\u001b[0mix\u001b[0m \u001b[0;34m*\u001b[0m \u001b[0;36m2\u001b[0m\u001b[0;34m]\u001b[0m\u001b[0;34m.\u001b[0m\u001b[0mvalue\u001b[0m\u001b[0;34m,\u001b[0m \u001b[0mlevel\u001b[0m\u001b[0;34m[\u001b[0m\u001b[0mix\u001b[0m \u001b[0;34m*\u001b[0m \u001b[0;36m2\u001b[0m \u001b[0;34m+\u001b[0m \u001b[0;36m1\u001b[0m\u001b[0;34m]\u001b[0m\u001b[0;34m.\u001b[0m\u001b[0mvalue\u001b[0m\u001b[0;34m)\u001b[0m\u001b[0;34m\u001b[0m\u001b[0;34m\u001b[0m\u001b[0m\n\u001b[0;32m--> 112\u001b[0;31m             \u001b[0mpred\u001b[0m \u001b[0;34m=\u001b[0m \u001b[0msubmit\u001b[0m\u001b[0;34m[\u001b[0m\u001b[0msubmit\u001b[0m\u001b[0;34m[\u001b[0m\u001b[0mID\u001b[0m\u001b[0;34m]\u001b[0m \u001b[0;34m==\u001b[0m \u001b[0mgid\u001b[0m\u001b[0;34m]\u001b[0m\u001b[0;34m[\u001b[0m\u001b[0mPRED\u001b[0m\u001b[0;34m]\u001b[0m\u001b[0;34m.\u001b[0m\u001b[0mvalues\u001b[0m\u001b[0;34m[\u001b[0m\u001b[0;36m0\u001b[0m\u001b[0;34m]\u001b[0m\u001b[0;34m\u001b[0m\u001b[0;34m\u001b[0m\u001b[0m\n\u001b[0m\u001b[1;32m    113\u001b[0m             \u001b[0;32mif\u001b[0m \u001b[0mpred\u001b[0m \u001b[0;34m>=\u001b[0m \u001b[0;36m0.5\u001b[0m\u001b[0;34m:\u001b[0m\u001b[0;34m\u001b[0m\u001b[0;34m\u001b[0m\u001b[0m\n\u001b[1;32m    114\u001b[0m                 \u001b[0mlevel\u001b[0m\u001b[0;34m[\u001b[0m\u001b[0mix\u001b[0m \u001b[0;34m*\u001b[0m \u001b[0;36m2\u001b[0m\u001b[0;34m]\u001b[0m\u001b[0;34m.\u001b[0m\u001b[0mparent\u001b[0m\u001b[0;34m.\u001b[0m\u001b[0mvalue\u001b[0m \u001b[0;34m=\u001b[0m \u001b[0mteam1\u001b[0m\u001b[0;34m[\u001b[0m\u001b[0;36m0\u001b[0m\u001b[0;34m]\u001b[0m\u001b[0;34m\u001b[0m\u001b[0;34m\u001b[0m\u001b[0m\n",
      "\u001b[0;31mIndexError\u001b[0m: index 0 is out of bounds for axis 0 with size 0"
     ]
    }
   ],
   "source": [
    "from bracketeer import build_bracket\n",
    "\n",
    "b = build_bracket(\n",
    "    outputPath=\"../data/2021_bracket.png\",\n",
    "    teamsPath=\"../data/MTeams.csv\",\n",
    "    seedsPath=\"../data/MNCAATourneySeeds.csv\",\n",
    "    slotsPath=\"../data/MNCAATourneySlots.csv\",\n",
    "    submissionPath=\"../data/ncaa-march-madness-submission.csv\",\n",
    "    year=2021\n",
    ")"
   ]
  },
  {
   "cell_type": "code",
   "execution_count": 7,
   "metadata": {},
   "outputs": [],
   "source": [
    "slot_coordinates = {\n",
    "    2017: {\n",
    "         9:  (30, 532),# W1\n",
    "         10: (30, 514),\n",
    "         11: (30, 567),\n",
    "         12: (30, 550),\n",
    "         13: (30, 604),\n",
    "         14: (30, 586),\n",
    "         15: (30, 640),\n",
    "         16: (30, 622),\n",
    "         17: (30, 496),\n",
    "         18: (30, 478),\n",
    "         19: (30, 460),\n",
    "         20: (30, 442),\n",
    "         21: (30, 424),\n",
    "         22: (30, 406),\n",
    "         23: (30, 388),\n",
    "         24: (30, 370),\n",
    "         25: (30, 199),# X1\n",
    "         26: (30, 182),\n",
    "         27: (30, 236),\n",
    "         28: (30, 218),\n",
    "         29: (30, 272),\n",
    "         30: (30, 254),\n",
    "         31: (30, 308),\n",
    "         32: (30, 290),\n",
    "         33: (30, 164),\n",
    "         34: (30, 146),\n",
    "         35: (30, 128),\n",
    "         36: (30, 110),\n",
    "         37: (30, 92),\n",
    "         38: (30, 74),\n",
    "         39: (30, 55),\n",
    "         40: (30, 38),\n",
    "         41: (815, 532),# Y1\n",
    "         42: (815, 514),\n",
    "         43: (815, 567),\n",
    "         44: (815, 550),\n",
    "         45: (815, 604),\n",
    "         46: (815, 586),\n",
    "         47: (815, 640),\n",
    "         48: (815, 622),\n",
    "         49: (815, 496),\n",
    "         50: (815, 478),\n",
    "         51: (815, 460),\n",
    "         52: (815, 442),\n",
    "         53: (815, 424),\n",
    "         54: (815, 406),\n",
    "         55: (815, 388),\n",
    "         56: (815, 370),\n",
    "         57: (815, 199),# Z1\n",
    "         58: (815, 182),\n",
    "         59: (815, 236),\n",
    "         60: (815, 218),\n",
    "         61: (815, 272),\n",
    "         62: (815, 254),\n",
    "         63: (815, 308),\n",
    "         64: (815, 290),\n",
    "         65: (815, 164),\n",
    "         66: (815, 146),\n",
    "         67: (815, 128),\n",
    "         68: (815, 110),\n",
    "         69: (815, 92),\n",
    "         70: (815, 74),\n",
    "         71: (815, 55),\n",
    "         72: (815, 38),\n",
    "         73: (155, 523),# W2\n",
    "         74: (155, 559),\n",
    "         75: (155, 595),\n",
    "         76: (155, 631),\n",
    "         77: (155, 487),\n",
    "         78: (155, 451),\n",
    "         79: (155, 415),\n",
    "         80: (155, 379),\n",
    "         81: (155, 191),# X2\n",
    "         82: (155, 227),\n",
    "         83: (155, 263),\n",
    "         84: (155, 299),\n",
    "         85: (155, 155),\n",
    "         86: (155, 119),\n",
    "         87: (155, 83),\n",
    "         88: (155, 47),\n",
    "         89: (735, 523),# Y2\n",
    "         90: (735, 559),\n",
    "         91: (735, 595),\n",
    "         92: (735, 631),\n",
    "         93: (735, 487),\n",
    "         94: (735, 451),\n",
    "         95: (735, 415),\n",
    "         96: (735, 379),\n",
    "         97: (735, 191),# Z2\n",
    "         98: (735, 227),\n",
    "         99: (735, 263),\n",
    "         100: (735, 299),\n",
    "         101: (735, 155),\n",
    "         102: (735, 119),\n",
    "         103: (735, 83),\n",
    "         104: (735, 47),\n",
    "         105: (232, 541),# W3\n",
    "         106: (232, 613),\n",
    "         107: (232, 469),\n",
    "         108: (232, 397),\n",
    "         109: (232, 209),# X3\n",
    "         110: (232, 281),\n",
    "         111: (232, 137),\n",
    "         112: (232, 65),\n",
    "         113: (668, 541),# Y3\n",
    "         114: (668, 613),\n",
    "         115: (668, 469),\n",
    "         116: (668, 397),\n",
    "         117: (668, 209),# Z3\n",
    "         118: (668, 281),\n",
    "         119: (668, 137),\n",
    "         120: (668, 65),\n",
    "         121: (298, 576),# W4\n",
    "         122: (298, 432),\n",
    "         123: (298, 244),# X4\n",
    "         124: (298, 100),\n",
    "         125: (601, 576),# Y4\n",
    "         126: (601, 432),\n",
    "         127: (601, 244),# Z4\n",
    "         128: (601, 100),\n",
    "         129: (358, 504),# W5\n",
    "         130: (358, 172),# X5\n",
    "         131: (540, 504),# Y5\n",
    "         132: (540, 172),# Z5\n",
    "         133: (420, 457),# WX6\n",
    "         134: (435, 219),# YZ6\n",
    "         135: (435, 339)# CH\n",
    "    }\n",
    "}"
   ]
  },
  {
   "cell_type": "code",
   "execution_count": null,
   "metadata": {},
   "outputs": [],
   "source": [
    "import\n",
    "df = pd.DataFrame.from_dict(slot_coordinates)"
   ]
  }
 ],
 "metadata": {
  "kernelspec": {
   "display_name": "Python 3",
   "language": "python",
   "name": "python3"
  },
  "language_info": {
   "codemirror_mode": {
    "name": "ipython",
    "version": 3
   },
   "file_extension": ".py",
   "mimetype": "text/x-python",
   "name": "python",
   "nbconvert_exporter": "python",
   "pygments_lexer": "ipython3",
   "version": "3.8.3"
  }
 },
 "nbformat": 4,
 "nbformat_minor": 4
}
